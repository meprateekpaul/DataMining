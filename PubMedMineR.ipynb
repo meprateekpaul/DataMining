{
  "cells": [
    {
      "cell_type": "markdown",
      "metadata": {
        "id": "view-in-github",
        "colab_type": "text"
      },
      "source": [
        "<a href=\"https://colab.research.google.com/github/meprateekpaul/DataMining/blob/main/PubMedMineR.ipynb\" target=\"_parent\"><img src=\"https://colab.research.google.com/assets/colab-badge.svg\" alt=\"Open In Colab\"/></a>"
      ]
    },
    {
      "cell_type": "markdown",
      "source": [
        "## This notebook is created by Prateek Paul.\n",
        "* Email: prateekp@iiitd.ac.in\n",
        "* LinkedIn: [linkedin.com/in/prateekpaulpro/](https://linkedin.com/in/prateekpaulpro/)\n",
        "\n",
        "Disclaimer:\n",
        "The code and content in this notebook are compiled from various open sources, personal experience, and reference materials. It is intended solely for educational purposes. All credits for original ideas and code snippets go to their respective authors. If you find any inaccuracies or have suggestions, feel free to reach out."
      ],
      "metadata": {
        "id": "gEzdD050Z9nO"
      }
    },
    {
      "cell_type": "markdown",
      "metadata": {
        "id": "81PoC9_l5PPF"
      },
      "source": [
        "# INSTALLATIONS"
      ]
    },
    {
      "cell_type": "code",
      "execution_count": null,
      "metadata": {
        "colab": {
          "base_uri": "https://localhost:8080/"
        },
        "id": "vYiNpvNL7Qx-",
        "outputId": "51cf00e1-f442-4be3-aa7b-7bae3b95f5ba"
      },
      "outputs": [
        {
          "output_type": "stream",
          "name": "stderr",
          "text": [
            "Installing package into ‘/usr/local/lib/R/site-library’\n",
            "(as ‘lib’ is unspecified)\n",
            "\n",
            "also installing the dependencies ‘bitops’, ‘RCurl’, ‘XML’, ‘R2HTML’, ‘RJSONIO’\n",
            "\n",
            "\n"
          ]
        }
      ],
      "source": [
        "#install.packages('rcrossref')\n",
        "install.packages('pubmed.mineR')\n",
        "#library(rcrossref)\n",
        "library(pubmed.mineR)\n",
        "# 9mins install time"
      ]
    },
    {
      "cell_type": "code",
      "execution_count": null,
      "metadata": {
        "colab": {
          "base_uri": "https://localhost:8080/"
        },
        "id": "kCC7yyrbqXFj",
        "outputId": "789c0940-9325-45c9-9006-9f9dc2acbbd3"
      },
      "outputs": [
        {
          "output_type": "stream",
          "name": "stderr",
          "text": [
            "Installing package into ‘/usr/local/lib/R/site-library’\n",
            "(as ‘lib’ is unspecified)\n",
            "\n"
          ]
        }
      ],
      "source": [
        "install.packages('RISmed')"
      ]
    },
    {
      "cell_type": "code",
      "execution_count": null,
      "metadata": {
        "id": "LF7_u4Utudxi"
      },
      "outputs": [],
      "source": [
        "#library(BiocParallel)\n",
        "library(RISmed)"
      ]
    },
    {
      "cell_type": "markdown",
      "metadata": {
        "id": "nVumReeH53Gh"
      },
      "source": [
        "# SEARCH"
      ]
    },
    {
      "cell_type": "code",
      "execution_count": null,
      "metadata": {
        "id": "FAWYEfeO5OUc"
      },
      "outputs": [],
      "source": [
        "#title Linking\n",
        "email <- '18btbinf003@shiats.edu.in'\n",
        "api_key <- \"6907d480080e385d850bc63d2d569cff2708\"\n",
        "system(\"api_key=6907d480080e385d850bc63d2d569cff2708\")"
      ]
    },
    {
      "cell_type": "code",
      "execution_count": null,
      "metadata": {
        "cellView": "form",
        "id": "TxmaFshi7et6"
      },
      "outputs": [],
      "source": [
        "term <- \"phytochemical\" #@param {type:\"string\"}\n",
        "#retake <- 10000 #@param {type:\"integer\"}\n",
        "min_date <- 2000 #@param {type:\"integer\"}\n",
        "\n",
        "res1 <- EUtilsSummary(term,\n",
        "                      type = \"esearch\",\n",
        "                      db = \"pubmed\",\n",
        "                      datetype = \"pdat\",\n",
        " #                     retmax = retake,\n",
        "                      mindate = min_date,\n",
        "                      maxdate = 2023  # Set a maximum date if needed\n",
        ")\n",
        "\n",
        "fetch <- EUtilsGet(res1, type = 'efetch', db = \"pubmed\")\n",
        "abstracts <- data.frame(title = fetch@ArticleTitle,\n",
        "                        abstract = fetch@AbstractText,\n",
        "                        journal = fetch@Title,\n",
        "                        PMID = fetch@PMID,\n",
        "                        year = fetch@YearPubmed)\n",
        "\n",
        "## Ensure abstracts are character fields (not factors)\n",
        "abstracts <- abstracts %>% mutate(abstract = as.character(abstract))"
      ]
    },
    {
      "cell_type": "code",
      "execution_count": null,
      "metadata": {
        "colab": {
          "base_uri": "https://localhost:8080/",
          "height": 52
        },
        "id": "bo-c--Xi7gjm",
        "outputId": "9eb10482-5b65-4b92-c12a-c444f5a5b796"
      },
      "outputs": [
        {
          "output_type": "display_data",
          "data": {
            "text/html": [
              "10000"
            ],
            "text/markdown": "10000",
            "text/latex": "10000",
            "text/plain": [
              "[1] 10000"
            ]
          },
          "metadata": {}
        },
        {
          "output_type": "display_data",
          "data": {
            "text/html": [
              "10000"
            ],
            "text/markdown": "10000",
            "text/latex": "10000",
            "text/plain": [
              "[1] 10000"
            ]
          },
          "metadata": {}
        }
      ],
      "source": [
        "abstracts <- read.csv('/content/csv-probeORtra-set.csv')\n",
        "length(abstracts$PMID)\n",
        "pmids_new=unique(abstracts$PMID)\n",
        "length(pmids_new)"
      ]
    },
    {
      "cell_type": "code",
      "execution_count": null,
      "metadata": {
        "id": "7nHc6xbpvQzf"
      },
      "outputs": [],
      "source": [
        "# Getting abstracts\n",
        "#abstracts.Abstracts = lapply(pmids_new, pubtator_function)"
      ]
    },
    {
      "cell_type": "markdown",
      "metadata": {
        "id": "2QtKlhVknoc-"
      },
      "source": [
        "# Basics Mining of PubTAtOR"
      ]
    },
    {
      "cell_type": "code",
      "execution_count": null,
      "metadata": {
        "id": "43r6KPgd7llE"
      },
      "outputs": [],
      "source": [
        "res2 = lapply(pmids_new, pubtator_function)\n",
        "#res2 = bplapply(pmids_new, pubtator_function)\n",
        "df <-  as.data.frame(do.call(rbind, res2))\n",
        "df <- apply(df,2,as.character)"
      ]
    },
    {
      "cell_type": "code",
      "execution_count": null,
      "metadata": {
        "id": "ajkokjMlLHIV"
      },
      "outputs": [],
      "source": [
        "df"
      ]
    },
    {
      "cell_type": "code",
      "execution_count": null,
      "metadata": {
        "id": "EuBsClVvuN1v"
      },
      "outputs": [],
      "source": [
        "write.csv(df,\"heartattac.csv\", row.names = FALSE)"
      ]
    },
    {
      "cell_type": "code",
      "execution_count": null,
      "metadata": {
        "id": "scaVBOEo8m7J"
      },
      "outputs": [],
      "source": [
        "finaldf<-merge(x = df, y = abstracts, by = 'PMID', all = TRUE)\n",
        "write.csv(finaldf,\"heartattac.csv\", row.names = FALSE)"
      ]
    },
    {
      "cell_type": "code",
      "execution_count": null,
      "metadata": {
        "id": "vIEbEc8p64gA"
      },
      "outputs": [],
      "source": [
        "pubtator_result_list_to_table(res2)\n",
        "pubresults <- read.csv('result.txt', sep='\\t')"
      ]
    },
    {
      "cell_type": "markdown",
      "metadata": {
        "id": "Wr0vNpNKnzmn"
      },
      "source": [
        "# Seperating Terms and Numbers"
      ]
    },
    {
      "cell_type": "code",
      "execution_count": null,
      "metadata": {
        "id": "AuUgnY3poZ45"
      },
      "outputs": [],
      "source": [
        "df_entities <- data.frame(PMID=character(),PubTract=character(),PubType=character())\n",
        "for (x in list(\"Genes\",\"Chemicals\",\"Species\",\"Mutations\",\"Diseases\")){\n",
        "#for (x in list(\"Chemicals\")){\n",
        "#for (x in list(\"Genes\",\"Chemicals\",\"Species\")){\n",
        "  for (y in 1:length(res2)){\n",
        "    for (z in try(res2[[y]][[x]])){\n",
        "      try(df_entities <- rbind(df_entities, data.frame(PMID=res2[[y]][[\"PMID\"]],PubTract=z, PubType=x)))\n",
        "  }}}\n",
        "dim(df_entities)"
      ]
    },
    {
      "cell_type": "code",
      "execution_count": null,
      "metadata": {
        "id": "8xJT1GXC0M32"
      },
      "outputs": [],
      "source": [
        "write.csv(df_entities,\"heartattacTypes.csv\", row.names = FALSE)"
      ]
    },
    {
      "cell_type": "code",
      "execution_count": null,
      "metadata": {
        "colab": {
          "base_uri": "https://localhost:8080/"
        },
        "id": "Hm0tJS70pXh-",
        "outputId": "dad5923b-c2dc-4a9c-a6a2-6cce98a85db7"
      },
      "outputs": [
        {
          "name": "stderr",
          "output_type": "stream",
          "text": [
            "Installing package into ‘/usr/local/lib/R/site-library’\n",
            "(as ‘lib’ is unspecified)\n",
            "\n",
            "also installing the dependencies ‘triebeard’, ‘lazyeval’, ‘urltools’, ‘httpcode’, ‘Rcpp’, ‘httpuv’, ‘xtable’, ‘sourcetools’, ‘later’, ‘promises’, ‘htmlwidgets’, ‘crosstalk’, ‘crul’, ‘plyr’, ‘shiny’, ‘miniUI’, ‘DT’\n",
            "\n",
            "\n",
            "── \u001b[1mAttaching core tidyverse packages\u001b[22m ──────────────────────── tidyverse 2.0.0 ──\n",
            "\u001b[32m✔\u001b[39m \u001b[34mdplyr    \u001b[39m 1.1.4     \u001b[32m✔\u001b[39m \u001b[34mreadr    \u001b[39m 2.1.5\n",
            "\u001b[32m✔\u001b[39m \u001b[34mforcats  \u001b[39m 1.0.0     \u001b[32m✔\u001b[39m \u001b[34mstringr  \u001b[39m 1.5.1\n",
            "\u001b[32m✔\u001b[39m \u001b[34mggplot2  \u001b[39m 3.4.4     \u001b[32m✔\u001b[39m \u001b[34mtibble   \u001b[39m 3.2.1\n",
            "\u001b[32m✔\u001b[39m \u001b[34mlubridate\u001b[39m 1.9.3     \u001b[32m✔\u001b[39m \u001b[34mtidyr    \u001b[39m 1.3.0\n",
            "\u001b[32m✔\u001b[39m \u001b[34mpurrr    \u001b[39m 1.0.2     \n",
            "── \u001b[1mConflicts\u001b[22m ────────────────────────────────────────── tidyverse_conflicts() ──\n",
            "\u001b[31m✖\u001b[39m \u001b[34mdplyr\u001b[39m::\u001b[32mfilter()\u001b[39m masks \u001b[34mstats\u001b[39m::filter()\n",
            "\u001b[31m✖\u001b[39m \u001b[34mdplyr\u001b[39m::\u001b[32mlag()\u001b[39m    masks \u001b[34mstats\u001b[39m::lag()\n",
            "\u001b[36mℹ\u001b[39m Use the conflicted package (\u001b[3m\u001b[34m<http://conflicted.r-lib.org/>\u001b[39m\u001b[23m) to force all conflicts to become errors\n"
          ]
        }
      ],
      "source": [
        "install.packages('rcrossref')\n",
        "library(rcrossref)\n",
        "library(tidyverse)"
      ]
    },
    {
      "cell_type": "code",
      "execution_count": null,
      "metadata": {
        "id": "s_W6lTT7qovD"
      },
      "outputs": [],
      "source": [
        "#getting Pubmed IDs\n",
        "df_pmc <- data.frame(PMID=character(),PMC=character())\n",
        "for (x in pmids_new){\n",
        "  ids <- id_converter(x, \"pmid\")\n",
        "  pmc = str_replace(ids$records$pmcid[1], \"PMC\", \"\")\n",
        "  try(df_pmc <- rbind(df_pmc, data.frame(PMID=x,PMC=pmc)))\n",
        "}"
      ]
    },
    {
      "cell_type": "code",
      "execution_count": null,
      "metadata": {
        "colab": {
          "base_uri": "https://localhost:8080/"
        },
        "id": "T-vuUfnrqjx_",
        "outputId": "3a28efb7-8a1c-4fff-983a-18dd98c43c5e"
      },
      "outputs": [
        {
          "name": "stderr",
          "output_type": "stream",
          "text": [
            "Warning message:\n",
            "“\u001b[1m\u001b[22mExpected 2 pieces. Additional pieces discarded in 1 rows [25838].”\n"
          ]
        }
      ],
      "source": [
        "df_entities <- separate(data = df_entities, col = PubTract, into = c(\"PName\", \"PMeshId\"), sep = \">\")\n",
        "df_pmc_ent <-merge(x = df_entities, y = df_pmc, by = 'PMID', all = TRUE)"
      ]
    },
    {
      "cell_type": "code",
      "execution_count": null,
      "metadata": {
        "id": "qu3bwJcva6ie"
      },
      "outputs": [],
      "source": [
        "df_pmc_ent <- read.csv('df_pmc_ent.csv')"
      ]
    },
    {
      "cell_type": "code",
      "execution_count": null,
      "metadata": {
        "id": "Bkftdaa-bixZ"
      },
      "outputs": [],
      "source": [
        "df_pmc_ent"
      ]
    },
    {
      "cell_type": "code",
      "execution_count": null,
      "metadata": {
        "id": "vVIhGJitbgka"
      },
      "outputs": [],
      "source": [
        "df_chem <- df_pmc_ent[df_pmc_ent$PubType == 'Chemicals',]"
      ]
    },
    {
      "cell_type": "code",
      "execution_count": null,
      "metadata": {
        "id": "XlooXYpypPQu"
      },
      "outputs": [],
      "source": [
        "#sentences <- bplapply(df_pmc_ent$PMC, Give_Sentences_PMC, term=df_pmc_ent$PName)\n",
        "sentences <- bplapply(df_chem$PMC, Give_Sentences_PMC, term=df_chem$PName)"
      ]
    },
    {
      "cell_type": "code",
      "execution_count": null,
      "metadata": {
        "colab": {
          "base_uri": "https://localhost:8080/",
          "height": 34
        },
        "id": "UBNOI_aVzj3m",
        "outputId": "276deeda-f1fd-4678-c6d6-4fe333a9baaa"
      },
      "outputs": [
        {
          "data": {
            "text/plain": [
              "NULL"
            ]
          },
          "metadata": {},
          "output_type": "display_data"
        }
      ],
      "source": [
        "dim(sentences)"
      ]
    },
    {
      "cell_type": "code",
      "execution_count": null,
      "metadata": {
        "colab": {
          "base_uri": "https://localhost:8080/",
          "height": 34
        },
        "id": "H1md4GPYevul",
        "outputId": "18daed18-0a74-481f-c959-09086e6155d0"
      },
      "outputs": [
        {
          "data": {
            "text/html": [
              "438"
            ],
            "text/latex": "438",
            "text/markdown": "438",
            "text/plain": [
              "[1] 438"
            ]
          },
          "metadata": {},
          "output_type": "display_data"
        }
      ],
      "source": [
        "length(df_chem$PMC)"
      ]
    },
    {
      "cell_type": "code",
      "execution_count": null,
      "metadata": {
        "colab": {
          "base_uri": "https://localhost:8080/",
          "height": 34
        },
        "id": "HCREhXnNcFTg",
        "outputId": "edb93518-f0df-4d6b-c0cb-d3d5480b11d1"
      },
      "outputs": [
        {
          "data": {
            "text/html": [
              "1"
            ],
            "text/latex": "1",
            "text/markdown": "1",
            "text/plain": [
              "[1] 1"
            ]
          },
          "metadata": {},
          "output_type": "display_data"
        }
      ],
      "source": [
        "length(sentences[263])"
      ]
    },
    {
      "cell_type": "code",
      "execution_count": null,
      "metadata": {
        "id": "4ACsNl2ze8lP"
      },
      "outputs": [],
      "source": [
        "df_sentences <- rbind(df_chem, sentences)"
      ]
    },
    {
      "cell_type": "code",
      "execution_count": null,
      "metadata": {
        "id": "30svJKoogWyG"
      },
      "outputs": [],
      "source": [
        "rownames(df_chem) <- 1:nrow(df_chem)"
      ]
    },
    {
      "cell_type": "code",
      "execution_count": null,
      "metadata": {
        "id": "nYWi9-gNf4bN"
      },
      "outputs": [],
      "source": [
        "df_chem$sentences <- sentences"
      ]
    },
    {
      "cell_type": "code",
      "execution_count": null,
      "metadata": {
        "colab": {
          "base_uri": "https://localhost:8080/",
          "height": 1000
        },
        "id": "bZ20JmKegya8",
        "outputId": "2cda3f38-fb53-442e-e0b3-53f3d7d56ad2"
      },
      "outputs": [
        {
          "data": {
            "text/html": [
              "<table class=\"dataframe\">\n",
              "<caption>A data.frame: 438 × 6</caption>\n",
              "<thead>\n",
              "\t<tr><th></th><th scope=col>PMID</th><th scope=col>PName</th><th scope=col>PMeshId</th><th scope=col>PubType</th><th scope=col>PMC</th><th scope=col>sentences</th></tr>\n",
              "\t<tr><th></th><th scope=col>&lt;int&gt;</th><th scope=col>&lt;chr&gt;</th><th scope=col>&lt;chr&gt;</th><th scope=col>&lt;chr&gt;</th><th scope=col>&lt;int&gt;</th><th scope=col>&lt;list&gt;</th></tr>\n",
              "</thead>\n",
              "<tbody>\n",
              "\t<tr><th scope=row>56</th><td>17406030</td><td>temozolomide                          </td><td>MESH:D000077204</td><td>Chemicals</td><td>     NA</td><td>NULL</td></tr>\n",
              "\t<tr><th scope=row>68</th><td>17620414</td><td>H3-K36-Me                             </td><td>-              </td><td>Chemicals</td><td>2099615</td><td>NULL</td></tr>\n",
              "\t<tr><th scope=row>70</th><td>17620414</td><td>H3-K4-Me                              </td><td>-              </td><td>Chemicals</td><td>2099615</td><td>NULL</td></tr>\n",
              "\t<tr><th scope=row>72</th><td>17620414</td><td>ATP                                   </td><td>MESH:D000255   </td><td>Chemicals</td><td>2099615</td><td>NULL</td></tr>\n",
              "\t<tr><th scope=row>103</th><td>18794128</td><td>oncrasin-1                            </td><td>MESH:C532252   </td><td>Chemicals</td><td>2678915</td><td>NULL</td></tr>\n",
              "\t<tr><th scope=row>118</th><td>19074863</td><td>carboplatin                           </td><td>MESH:D016190   </td><td>Chemicals</td><td>     NA</td><td>NULL</td></tr>\n",
              "\t<tr><th scope=row>123</th><td>19144191</td><td>sphingolipid                          </td><td>MESH:D013107   </td><td>Chemicals</td><td>2632640</td><td>NULL</td></tr>\n",
              "\t<tr><th scope=row>124</th><td>19144191</td><td>dihydromotuporamine C                 </td><td>MESH:C510298   </td><td>Chemicals</td><td>2632640</td><td>NULL</td></tr>\n",
              "\t<tr><th scope=row>143</th><td>19366795</td><td>estradiol                             </td><td>MESH:D004958   </td><td>Chemicals</td><td>2811393</td><td>NULL</td></tr>\n",
              "\t<tr><th scope=row>144</th><td>19366795</td><td>BEZ235                                </td><td>MESH:C531198   </td><td>Chemicals</td><td>2811393</td><td>NULL</td></tr>\n",
              "\t<tr><th scope=row>172</th><td>19934329</td><td>mitomycin C                           </td><td>MESH:D016685   </td><td>Chemicals</td><td>2799030</td><td>NULL</td></tr>\n",
              "\t<tr><th scope=row>175</th><td>19934329</td><td>MMC                                   </td><td>MESH:D016685   </td><td>Chemicals</td><td>2799030</td><td>NULL</td></tr>\n",
              "\t<tr><th scope=row>192</th><td>20457929</td><td>ADP                                   </td><td>MESH:D000244   </td><td>Chemicals</td><td>2906835</td><td>NULL</td></tr>\n",
              "\t<tr><th scope=row>193</th><td>20457929</td><td>phosphate                             </td><td>MESH:D010710   </td><td>Chemicals</td><td>2906835</td><td>NULL</td></tr>\n",
              "\t<tr><th scope=row>197</th><td>20457929</td><td>ATP                                   </td><td>MESH:D000255   </td><td>Chemicals</td><td>2906835</td><td>NULL</td></tr>\n",
              "\t<tr><th scope=row>229</th><td>21042413</td><td>benomyl                               </td><td>MESH:D001542   </td><td>Chemicals</td><td>2958848</td><td>NULL</td></tr>\n",
              "\t<tr><th scope=row>237</th><td>21088254</td><td>serine                                </td><td>MESH:D012694   </td><td>Chemicals</td><td>     NA</td><td>NULL</td></tr>\n",
              "\t<tr><th scope=row>248</th><td>21289082</td><td>mitomycin C                           </td><td>MESH:D016685   </td><td>Chemicals</td><td>3087888</td><td>NULL</td></tr>\n",
              "\t<tr><th scope=row>249</th><td>21289082</td><td>gemcitabine                           </td><td>MESH:C056507   </td><td>Chemicals</td><td>3087888</td><td>NULL</td></tr>\n",
              "\t<tr><th scope=row>260</th><td>21430111</td><td>PX-866                                </td><td>MESH:C496788   </td><td>Chemicals</td><td>3064700</td><td>NULL</td></tr>\n",
              "\t<tr><th scope=row>276</th><td>21555567</td><td>oxygen                                </td><td>MESH:D010100   </td><td>Chemicals</td><td>3102385</td><td>NULL</td></tr>\n",
              "\t<tr><th scope=row>278</th><td>21555567</td><td>lanperisone                           </td><td>-              </td><td>Chemicals</td><td>3102385</td><td>NULL</td></tr>\n",
              "\t<tr><th scope=row>281</th><td>21562588</td><td>Nutlin                                </td><td>-              </td><td>Chemicals</td><td>3122118</td><td>NULL</td></tr>\n",
              "\t<tr><th scope=row>283</th><td>21562588</td><td>17AAG                                 </td><td>MESH:C112765   </td><td>Chemicals</td><td>3122118</td><td>NULL</td></tr>\n",
              "\t<tr><th scope=row>284</th><td>21562588</td><td>17-allylamino-17-demethoxygeldanamycin</td><td>MESH:C112765   </td><td>Chemicals</td><td>3122118</td><td>NULL</td></tr>\n",
              "\t<tr><th scope=row>287</th><td>21922195</td><td>alanines                              </td><td>MESH:D000409   </td><td>Chemicals</td><td>3285760</td><td>NULL</td></tr>\n",
              "\t<tr><th scope=row>288</th><td>21922195</td><td>neocarzinostatin                      </td><td>MESH:D009353   </td><td>Chemicals</td><td>3285760</td><td>NULL</td></tr>\n",
              "\t<tr><th scope=row>289</th><td>21922195</td><td>polymer                               </td><td>MESH:D011108   </td><td>Chemicals</td><td>3285760</td><td>NULL</td></tr>\n",
              "\t<tr><th scope=row>290</th><td>21922195</td><td>hydrogen peroxide                     </td><td>MESH:D006861   </td><td>Chemicals</td><td>3285760</td><td>NULL</td></tr>\n",
              "\t<tr><th scope=row>292</th><td>21922195</td><td>SSBs                                  </td><td>MESH:C016118   </td><td>Chemicals</td><td>3285760</td><td>NULL</td></tr>\n",
              "\t<tr><th scope=row>⋮</th><td>⋮</td><td>⋮</td><td>⋮</td><td>⋮</td><td>⋮</td><td>⋮</td></tr>\n",
              "\t<tr><th scope=row>1842</th><td>33138032</td><td>BTICs                      </td><td>-              </td><td>Chemicals</td><td>7693555</td><td>NULL</td></tr>\n",
              "\t<tr><th scope=row>1848</th><td>33138032</td><td>olaparib                   </td><td>MESH:C531550   </td><td>Chemicals</td><td>7693555</td><td>NULL</td></tr>\n",
              "\t<tr><th scope=row>1876</th><td>33241675</td><td>BH3                        </td><td>MESH:C006008   </td><td>Chemicals</td><td>8634190</td><td>NULL</td></tr>\n",
              "\t<tr><th scope=row>1886</th><td>33431824</td><td>BETi                       </td><td>-              </td><td>Chemicals</td><td>7801601</td><td>NULL</td></tr>\n",
              "\t<tr><th scope=row>1891</th><td>33536335</td><td>topotecan                  </td><td>MESH:D019772   </td><td>Chemicals</td><td>8017720</td><td>NULL</td></tr>\n",
              "\t<tr><th scope=row>1892</th><td>33536335</td><td>camptothecin               </td><td>MESH:D002166   </td><td>Chemicals</td><td>8017720</td><td>NULL</td></tr>\n",
              "\t<tr><th scope=row>1894</th><td>33536335</td><td>indotecan                  </td><td>MESH:C553898   </td><td>Chemicals</td><td>8017720</td><td>NULL</td></tr>\n",
              "\t<tr><th scope=row>1895</th><td>33536335</td><td>talazoparib                </td><td>MESH:C586365   </td><td>Chemicals</td><td>8017720</td><td>NULL</td></tr>\n",
              "\t<tr><th scope=row>1899</th><td>33536335</td><td>cisplatin                  </td><td>MESH:D002945   </td><td>Chemicals</td><td>8017720</td><td>NULL</td></tr>\n",
              "\t<tr><th scope=row>1905</th><td>33536335</td><td>etoposide                  </td><td>MESH:D005047   </td><td>Chemicals</td><td>8017720</td><td>NULL</td></tr>\n",
              "\t<tr><th scope=row>1913</th><td>33591981</td><td>TAK                        </td><td>-              </td><td>Chemicals</td><td>7909629</td><td>NULL</td></tr>\n",
              "\t<tr><th scope=row>1914</th><td>33591981</td><td>celastrol                  </td><td>MESH:C050414   </td><td>Chemicals</td><td>7909629</td><td>NULL</td></tr>\n",
              "\t<tr><th scope=row>1916</th><td>33591981</td><td>PYR                        </td><td>MESH:D009242   </td><td>Chemicals</td><td>7909629</td><td>NULL</td></tr>\n",
              "\t<tr><th scope=row>1920</th><td>33591981</td><td>UNC3230                    </td><td>-              </td><td>Chemicals</td><td>7909629</td><td>NULL</td></tr>\n",
              "\t<tr><th scope=row>1924</th><td>33591981</td><td>isoginkgetin               </td><td>MESH:C452984   </td><td>Chemicals</td><td>7909629</td><td>NULL</td></tr>\n",
              "\t<tr><th scope=row>1927</th><td>33627666</td><td>cladribine                 </td><td>MESH:D017338   </td><td>Chemicals</td><td>7904840</td><td>NULL</td></tr>\n",
              "\t<tr><th scope=row>1930</th><td>33628735</td><td>leucine                    </td><td>MESH:D007930   </td><td>Chemicals</td><td>7898977</td><td>NULL</td></tr>\n",
              "\t<tr><th scope=row>1939</th><td>33663560</td><td>Lapatinib                  </td><td>MESH:D000077341</td><td>Chemicals</td><td>7934554</td><td>NULL</td></tr>\n",
              "\t<tr><th scope=row>1942</th><td>33663560</td><td>veliparib                  </td><td>MESH:C521013   </td><td>Chemicals</td><td>7934554</td><td>NULL</td></tr>\n",
              "\t<tr><th scope=row>1943</th><td>33663560</td><td>taxane                     </td><td>MESH:C080625   </td><td>Chemicals</td><td>7934554</td><td>NULL</td></tr>\n",
              "\t<tr><th scope=row>1945</th><td>33663560</td><td>anthracycline              </td><td>MESH:D018943   </td><td>Chemicals</td><td>7934554</td><td>NULL</td></tr>\n",
              "\t<tr><th scope=row>1948</th><td>33663560</td><td>lapatinib                  </td><td>MESH:D000077341</td><td>Chemicals</td><td>7934554</td><td>NULL</td></tr>\n",
              "\t<tr><th scope=row>1953</th><td>33668176</td><td>saponins                   </td><td>MESH:D012503   </td><td>Chemicals</td><td>7956252</td><td>NULL</td></tr>\n",
              "\t<tr><th scope=row>1954</th><td>33668176</td><td>sterol                     </td><td>MESH:D013261   </td><td>Chemicals</td><td>7956252</td><td>NULL</td></tr>\n",
              "\t<tr><th scope=row>1963</th><td>33676427</td><td>Eeyarestatin I             </td><td>MESH:C492847   </td><td>Chemicals</td><td>7937230</td><td>NULL</td></tr>\n",
              "\t<tr><th scope=row>1965</th><td>33676427</td><td>FTS                        </td><td>MESH:C093323   </td><td>Chemicals</td><td>7937230</td><td>NULL</td></tr>\n",
              "\t<tr><th scope=row>1966</th><td>33676427</td><td>Farnesyl thiosalicylic acid</td><td>MESH:C093323   </td><td>Chemicals</td><td>7937230</td><td>NULL</td></tr>\n",
              "\t<tr><th scope=row>1968</th><td>33676427</td><td>EerI                       </td><td>MESH:C492847   </td><td>Chemicals</td><td>7937230</td><td>NULL</td></tr>\n",
              "\t<tr><th scope=row>1995</th><td>33767160</td><td>trametinib                 </td><td>MESH:C560077   </td><td>Chemicals</td><td>7994846</td><td>NULL</td></tr>\n",
              "\t<tr><th scope=row>1996</th><td>33767160</td><td>ralimetinib                </td><td>-              </td><td>Chemicals</td><td>7994846</td><td>NULL</td></tr>\n",
              "</tbody>\n",
              "</table>\n"
            ],
            "text/latex": "A data.frame: 438 × 6\n\\begin{tabular}{r|llllll}\n  & PMID & PName & PMeshId & PubType & PMC & sentences\\\\\n  & <int> & <chr> & <chr> & <chr> & <int> & <list>\\\\\n\\hline\n\t56 & 17406030 & temozolomide                           & MESH:D000077204 & Chemicals &      NA & NULL\\\\\n\t68 & 17620414 & H3-K36-Me                              & -               & Chemicals & 2099615 & NULL\\\\\n\t70 & 17620414 & H3-K4-Me                               & -               & Chemicals & 2099615 & NULL\\\\\n\t72 & 17620414 & ATP                                    & MESH:D000255    & Chemicals & 2099615 & NULL\\\\\n\t103 & 18794128 & oncrasin-1                             & MESH:C532252    & Chemicals & 2678915 & NULL\\\\\n\t118 & 19074863 & carboplatin                            & MESH:D016190    & Chemicals &      NA & NULL\\\\\n\t123 & 19144191 & sphingolipid                           & MESH:D013107    & Chemicals & 2632640 & NULL\\\\\n\t124 & 19144191 & dihydromotuporamine C                  & MESH:C510298    & Chemicals & 2632640 & NULL\\\\\n\t143 & 19366795 & estradiol                              & MESH:D004958    & Chemicals & 2811393 & NULL\\\\\n\t144 & 19366795 & BEZ235                                 & MESH:C531198    & Chemicals & 2811393 & NULL\\\\\n\t172 & 19934329 & mitomycin C                            & MESH:D016685    & Chemicals & 2799030 & NULL\\\\\n\t175 & 19934329 & MMC                                    & MESH:D016685    & Chemicals & 2799030 & NULL\\\\\n\t192 & 20457929 & ADP                                    & MESH:D000244    & Chemicals & 2906835 & NULL\\\\\n\t193 & 20457929 & phosphate                              & MESH:D010710    & Chemicals & 2906835 & NULL\\\\\n\t197 & 20457929 & ATP                                    & MESH:D000255    & Chemicals & 2906835 & NULL\\\\\n\t229 & 21042413 & benomyl                                & MESH:D001542    & Chemicals & 2958848 & NULL\\\\\n\t237 & 21088254 & serine                                 & MESH:D012694    & Chemicals &      NA & NULL\\\\\n\t248 & 21289082 & mitomycin C                            & MESH:D016685    & Chemicals & 3087888 & NULL\\\\\n\t249 & 21289082 & gemcitabine                            & MESH:C056507    & Chemicals & 3087888 & NULL\\\\\n\t260 & 21430111 & PX-866                                 & MESH:C496788    & Chemicals & 3064700 & NULL\\\\\n\t276 & 21555567 & oxygen                                 & MESH:D010100    & Chemicals & 3102385 & NULL\\\\\n\t278 & 21555567 & lanperisone                            & -               & Chemicals & 3102385 & NULL\\\\\n\t281 & 21562588 & Nutlin                                 & -               & Chemicals & 3122118 & NULL\\\\\n\t283 & 21562588 & 17AAG                                  & MESH:C112765    & Chemicals & 3122118 & NULL\\\\\n\t284 & 21562588 & 17-allylamino-17-demethoxygeldanamycin & MESH:C112765    & Chemicals & 3122118 & NULL\\\\\n\t287 & 21922195 & alanines                               & MESH:D000409    & Chemicals & 3285760 & NULL\\\\\n\t288 & 21922195 & neocarzinostatin                       & MESH:D009353    & Chemicals & 3285760 & NULL\\\\\n\t289 & 21922195 & polymer                                & MESH:D011108    & Chemicals & 3285760 & NULL\\\\\n\t290 & 21922195 & hydrogen peroxide                      & MESH:D006861    & Chemicals & 3285760 & NULL\\\\\n\t292 & 21922195 & SSBs                                   & MESH:C016118    & Chemicals & 3285760 & NULL\\\\\n\t⋮ & ⋮ & ⋮ & ⋮ & ⋮ & ⋮ & ⋮\\\\\n\t1842 & 33138032 & BTICs                       & -               & Chemicals & 7693555 & NULL\\\\\n\t1848 & 33138032 & olaparib                    & MESH:C531550    & Chemicals & 7693555 & NULL\\\\\n\t1876 & 33241675 & BH3                         & MESH:C006008    & Chemicals & 8634190 & NULL\\\\\n\t1886 & 33431824 & BETi                        & -               & Chemicals & 7801601 & NULL\\\\\n\t1891 & 33536335 & topotecan                   & MESH:D019772    & Chemicals & 8017720 & NULL\\\\\n\t1892 & 33536335 & camptothecin                & MESH:D002166    & Chemicals & 8017720 & NULL\\\\\n\t1894 & 33536335 & indotecan                   & MESH:C553898    & Chemicals & 8017720 & NULL\\\\\n\t1895 & 33536335 & talazoparib                 & MESH:C586365    & Chemicals & 8017720 & NULL\\\\\n\t1899 & 33536335 & cisplatin                   & MESH:D002945    & Chemicals & 8017720 & NULL\\\\\n\t1905 & 33536335 & etoposide                   & MESH:D005047    & Chemicals & 8017720 & NULL\\\\\n\t1913 & 33591981 & TAK                         & -               & Chemicals & 7909629 & NULL\\\\\n\t1914 & 33591981 & celastrol                   & MESH:C050414    & Chemicals & 7909629 & NULL\\\\\n\t1916 & 33591981 & PYR                         & MESH:D009242    & Chemicals & 7909629 & NULL\\\\\n\t1920 & 33591981 & UNC3230                     & -               & Chemicals & 7909629 & NULL\\\\\n\t1924 & 33591981 & isoginkgetin                & MESH:C452984    & Chemicals & 7909629 & NULL\\\\\n\t1927 & 33627666 & cladribine                  & MESH:D017338    & Chemicals & 7904840 & NULL\\\\\n\t1930 & 33628735 & leucine                     & MESH:D007930    & Chemicals & 7898977 & NULL\\\\\n\t1939 & 33663560 & Lapatinib                   & MESH:D000077341 & Chemicals & 7934554 & NULL\\\\\n\t1942 & 33663560 & veliparib                   & MESH:C521013    & Chemicals & 7934554 & NULL\\\\\n\t1943 & 33663560 & taxane                      & MESH:C080625    & Chemicals & 7934554 & NULL\\\\\n\t1945 & 33663560 & anthracycline               & MESH:D018943    & Chemicals & 7934554 & NULL\\\\\n\t1948 & 33663560 & lapatinib                   & MESH:D000077341 & Chemicals & 7934554 & NULL\\\\\n\t1953 & 33668176 & saponins                    & MESH:D012503    & Chemicals & 7956252 & NULL\\\\\n\t1954 & 33668176 & sterol                      & MESH:D013261    & Chemicals & 7956252 & NULL\\\\\n\t1963 & 33676427 & Eeyarestatin I              & MESH:C492847    & Chemicals & 7937230 & NULL\\\\\n\t1965 & 33676427 & FTS                         & MESH:C093323    & Chemicals & 7937230 & NULL\\\\\n\t1966 & 33676427 & Farnesyl thiosalicylic acid & MESH:C093323    & Chemicals & 7937230 & NULL\\\\\n\t1968 & 33676427 & EerI                        & MESH:C492847    & Chemicals & 7937230 & NULL\\\\\n\t1995 & 33767160 & trametinib                  & MESH:C560077    & Chemicals & 7994846 & NULL\\\\\n\t1996 & 33767160 & ralimetinib                 & -               & Chemicals & 7994846 & NULL\\\\\n\\end{tabular}\n",
            "text/markdown": "\nA data.frame: 438 × 6\n\n| <!--/--> | PMID &lt;int&gt; | PName &lt;chr&gt; | PMeshId &lt;chr&gt; | PubType &lt;chr&gt; | PMC &lt;int&gt; | sentences &lt;list&gt; |\n|---|---|---|---|---|---|---|\n| 56 | 17406030 | temozolomide                           | MESH:D000077204 | Chemicals |      NA | NULL |\n| 68 | 17620414 | H3-K36-Me                              | -               | Chemicals | 2099615 | NULL |\n| 70 | 17620414 | H3-K4-Me                               | -               | Chemicals | 2099615 | NULL |\n| 72 | 17620414 | ATP                                    | MESH:D000255    | Chemicals | 2099615 | NULL |\n| 103 | 18794128 | oncrasin-1                             | MESH:C532252    | Chemicals | 2678915 | NULL |\n| 118 | 19074863 | carboplatin                            | MESH:D016190    | Chemicals |      NA | NULL |\n| 123 | 19144191 | sphingolipid                           | MESH:D013107    | Chemicals | 2632640 | NULL |\n| 124 | 19144191 | dihydromotuporamine C                  | MESH:C510298    | Chemicals | 2632640 | NULL |\n| 143 | 19366795 | estradiol                              | MESH:D004958    | Chemicals | 2811393 | NULL |\n| 144 | 19366795 | BEZ235                                 | MESH:C531198    | Chemicals | 2811393 | NULL |\n| 172 | 19934329 | mitomycin C                            | MESH:D016685    | Chemicals | 2799030 | NULL |\n| 175 | 19934329 | MMC                                    | MESH:D016685    | Chemicals | 2799030 | NULL |\n| 192 | 20457929 | ADP                                    | MESH:D000244    | Chemicals | 2906835 | NULL |\n| 193 | 20457929 | phosphate                              | MESH:D010710    | Chemicals | 2906835 | NULL |\n| 197 | 20457929 | ATP                                    | MESH:D000255    | Chemicals | 2906835 | NULL |\n| 229 | 21042413 | benomyl                                | MESH:D001542    | Chemicals | 2958848 | NULL |\n| 237 | 21088254 | serine                                 | MESH:D012694    | Chemicals |      NA | NULL |\n| 248 | 21289082 | mitomycin C                            | MESH:D016685    | Chemicals | 3087888 | NULL |\n| 249 | 21289082 | gemcitabine                            | MESH:C056507    | Chemicals | 3087888 | NULL |\n| 260 | 21430111 | PX-866                                 | MESH:C496788    | Chemicals | 3064700 | NULL |\n| 276 | 21555567 | oxygen                                 | MESH:D010100    | Chemicals | 3102385 | NULL |\n| 278 | 21555567 | lanperisone                            | -               | Chemicals | 3102385 | NULL |\n| 281 | 21562588 | Nutlin                                 | -               | Chemicals | 3122118 | NULL |\n| 283 | 21562588 | 17AAG                                  | MESH:C112765    | Chemicals | 3122118 | NULL |\n| 284 | 21562588 | 17-allylamino-17-demethoxygeldanamycin | MESH:C112765    | Chemicals | 3122118 | NULL |\n| 287 | 21922195 | alanines                               | MESH:D000409    | Chemicals | 3285760 | NULL |\n| 288 | 21922195 | neocarzinostatin                       | MESH:D009353    | Chemicals | 3285760 | NULL |\n| 289 | 21922195 | polymer                                | MESH:D011108    | Chemicals | 3285760 | NULL |\n| 290 | 21922195 | hydrogen peroxide                      | MESH:D006861    | Chemicals | 3285760 | NULL |\n| 292 | 21922195 | SSBs                                   | MESH:C016118    | Chemicals | 3285760 | NULL |\n| ⋮ | ⋮ | ⋮ | ⋮ | ⋮ | ⋮ | ⋮ |\n| 1842 | 33138032 | BTICs                       | -               | Chemicals | 7693555 | NULL |\n| 1848 | 33138032 | olaparib                    | MESH:C531550    | Chemicals | 7693555 | NULL |\n| 1876 | 33241675 | BH3                         | MESH:C006008    | Chemicals | 8634190 | NULL |\n| 1886 | 33431824 | BETi                        | -               | Chemicals | 7801601 | NULL |\n| 1891 | 33536335 | topotecan                   | MESH:D019772    | Chemicals | 8017720 | NULL |\n| 1892 | 33536335 | camptothecin                | MESH:D002166    | Chemicals | 8017720 | NULL |\n| 1894 | 33536335 | indotecan                   | MESH:C553898    | Chemicals | 8017720 | NULL |\n| 1895 | 33536335 | talazoparib                 | MESH:C586365    | Chemicals | 8017720 | NULL |\n| 1899 | 33536335 | cisplatin                   | MESH:D002945    | Chemicals | 8017720 | NULL |\n| 1905 | 33536335 | etoposide                   | MESH:D005047    | Chemicals | 8017720 | NULL |\n| 1913 | 33591981 | TAK                         | -               | Chemicals | 7909629 | NULL |\n| 1914 | 33591981 | celastrol                   | MESH:C050414    | Chemicals | 7909629 | NULL |\n| 1916 | 33591981 | PYR                         | MESH:D009242    | Chemicals | 7909629 | NULL |\n| 1920 | 33591981 | UNC3230                     | -               | Chemicals | 7909629 | NULL |\n| 1924 | 33591981 | isoginkgetin                | MESH:C452984    | Chemicals | 7909629 | NULL |\n| 1927 | 33627666 | cladribine                  | MESH:D017338    | Chemicals | 7904840 | NULL |\n| 1930 | 33628735 | leucine                     | MESH:D007930    | Chemicals | 7898977 | NULL |\n| 1939 | 33663560 | Lapatinib                   | MESH:D000077341 | Chemicals | 7934554 | NULL |\n| 1942 | 33663560 | veliparib                   | MESH:C521013    | Chemicals | 7934554 | NULL |\n| 1943 | 33663560 | taxane                      | MESH:C080625    | Chemicals | 7934554 | NULL |\n| 1945 | 33663560 | anthracycline               | MESH:D018943    | Chemicals | 7934554 | NULL |\n| 1948 | 33663560 | lapatinib                   | MESH:D000077341 | Chemicals | 7934554 | NULL |\n| 1953 | 33668176 | saponins                    | MESH:D012503    | Chemicals | 7956252 | NULL |\n| 1954 | 33668176 | sterol                      | MESH:D013261    | Chemicals | 7956252 | NULL |\n| 1963 | 33676427 | Eeyarestatin I              | MESH:C492847    | Chemicals | 7937230 | NULL |\n| 1965 | 33676427 | FTS                         | MESH:C093323    | Chemicals | 7937230 | NULL |\n| 1966 | 33676427 | Farnesyl thiosalicylic acid | MESH:C093323    | Chemicals | 7937230 | NULL |\n| 1968 | 33676427 | EerI                        | MESH:C492847    | Chemicals | 7937230 | NULL |\n| 1995 | 33767160 | trametinib                  | MESH:C560077    | Chemicals | 7994846 | NULL |\n| 1996 | 33767160 | ralimetinib                 | -               | Chemicals | 7994846 | NULL |\n\n",
            "text/plain": [
              "     PMID     PName                                  PMeshId         PubType  \n",
              "56   17406030 temozolomide                           MESH:D000077204 Chemicals\n",
              "68   17620414 H3-K36-Me                              -               Chemicals\n",
              "70   17620414 H3-K4-Me                               -               Chemicals\n",
              "72   17620414 ATP                                    MESH:D000255    Chemicals\n",
              "103  18794128 oncrasin-1                             MESH:C532252    Chemicals\n",
              "118  19074863 carboplatin                            MESH:D016190    Chemicals\n",
              "123  19144191 sphingolipid                           MESH:D013107    Chemicals\n",
              "124  19144191 dihydromotuporamine C                  MESH:C510298    Chemicals\n",
              "143  19366795 estradiol                              MESH:D004958    Chemicals\n",
              "144  19366795 BEZ235                                 MESH:C531198    Chemicals\n",
              "172  19934329 mitomycin C                            MESH:D016685    Chemicals\n",
              "175  19934329 MMC                                    MESH:D016685    Chemicals\n",
              "192  20457929 ADP                                    MESH:D000244    Chemicals\n",
              "193  20457929 phosphate                              MESH:D010710    Chemicals\n",
              "197  20457929 ATP                                    MESH:D000255    Chemicals\n",
              "229  21042413 benomyl                                MESH:D001542    Chemicals\n",
              "237  21088254 serine                                 MESH:D012694    Chemicals\n",
              "248  21289082 mitomycin C                            MESH:D016685    Chemicals\n",
              "249  21289082 gemcitabine                            MESH:C056507    Chemicals\n",
              "260  21430111 PX-866                                 MESH:C496788    Chemicals\n",
              "276  21555567 oxygen                                 MESH:D010100    Chemicals\n",
              "278  21555567 lanperisone                            -               Chemicals\n",
              "281  21562588 Nutlin                                 -               Chemicals\n",
              "283  21562588 17AAG                                  MESH:C112765    Chemicals\n",
              "284  21562588 17-allylamino-17-demethoxygeldanamycin MESH:C112765    Chemicals\n",
              "287  21922195 alanines                               MESH:D000409    Chemicals\n",
              "288  21922195 neocarzinostatin                       MESH:D009353    Chemicals\n",
              "289  21922195 polymer                                MESH:D011108    Chemicals\n",
              "290  21922195 hydrogen peroxide                      MESH:D006861    Chemicals\n",
              "292  21922195 SSBs                                   MESH:C016118    Chemicals\n",
              "⋮    ⋮        ⋮                                      ⋮               ⋮        \n",
              "1842 33138032 BTICs                                  -               Chemicals\n",
              "1848 33138032 olaparib                               MESH:C531550    Chemicals\n",
              "1876 33241675 BH3                                    MESH:C006008    Chemicals\n",
              "1886 33431824 BETi                                   -               Chemicals\n",
              "1891 33536335 topotecan                              MESH:D019772    Chemicals\n",
              "1892 33536335 camptothecin                           MESH:D002166    Chemicals\n",
              "1894 33536335 indotecan                              MESH:C553898    Chemicals\n",
              "1895 33536335 talazoparib                            MESH:C586365    Chemicals\n",
              "1899 33536335 cisplatin                              MESH:D002945    Chemicals\n",
              "1905 33536335 etoposide                              MESH:D005047    Chemicals\n",
              "1913 33591981 TAK                                    -               Chemicals\n",
              "1914 33591981 celastrol                              MESH:C050414    Chemicals\n",
              "1916 33591981 PYR                                    MESH:D009242    Chemicals\n",
              "1920 33591981 UNC3230                                -               Chemicals\n",
              "1924 33591981 isoginkgetin                           MESH:C452984    Chemicals\n",
              "1927 33627666 cladribine                             MESH:D017338    Chemicals\n",
              "1930 33628735 leucine                                MESH:D007930    Chemicals\n",
              "1939 33663560 Lapatinib                              MESH:D000077341 Chemicals\n",
              "1942 33663560 veliparib                              MESH:C521013    Chemicals\n",
              "1943 33663560 taxane                                 MESH:C080625    Chemicals\n",
              "1945 33663560 anthracycline                          MESH:D018943    Chemicals\n",
              "1948 33663560 lapatinib                              MESH:D000077341 Chemicals\n",
              "1953 33668176 saponins                               MESH:D012503    Chemicals\n",
              "1954 33668176 sterol                                 MESH:D013261    Chemicals\n",
              "1963 33676427 Eeyarestatin I                         MESH:C492847    Chemicals\n",
              "1965 33676427 FTS                                    MESH:C093323    Chemicals\n",
              "1966 33676427 Farnesyl thiosalicylic acid            MESH:C093323    Chemicals\n",
              "1968 33676427 EerI                                   MESH:C492847    Chemicals\n",
              "1995 33767160 trametinib                             MESH:C560077    Chemicals\n",
              "1996 33767160 ralimetinib                            -               Chemicals\n",
              "     PMC     sentences\n",
              "56        NA NULL     \n",
              "68   2099615 NULL     \n",
              "70   2099615 NULL     \n",
              "72   2099615 NULL     \n",
              "103  2678915 NULL     \n",
              "118       NA NULL     \n",
              "123  2632640 NULL     \n",
              "124  2632640 NULL     \n",
              "143  2811393 NULL     \n",
              "144  2811393 NULL     \n",
              "172  2799030 NULL     \n",
              "175  2799030 NULL     \n",
              "192  2906835 NULL     \n",
              "193  2906835 NULL     \n",
              "197  2906835 NULL     \n",
              "229  2958848 NULL     \n",
              "237       NA NULL     \n",
              "248  3087888 NULL     \n",
              "249  3087888 NULL     \n",
              "260  3064700 NULL     \n",
              "276  3102385 NULL     \n",
              "278  3102385 NULL     \n",
              "281  3122118 NULL     \n",
              "283  3122118 NULL     \n",
              "284  3122118 NULL     \n",
              "287  3285760 NULL     \n",
              "288  3285760 NULL     \n",
              "289  3285760 NULL     \n",
              "290  3285760 NULL     \n",
              "292  3285760 NULL     \n",
              "⋮    ⋮       ⋮        \n",
              "1842 7693555 NULL     \n",
              "1848 7693555 NULL     \n",
              "1876 8634190 NULL     \n",
              "1886 7801601 NULL     \n",
              "1891 8017720 NULL     \n",
              "1892 8017720 NULL     \n",
              "1894 8017720 NULL     \n",
              "1895 8017720 NULL     \n",
              "1899 8017720 NULL     \n",
              "1905 8017720 NULL     \n",
              "1913 7909629 NULL     \n",
              "1914 7909629 NULL     \n",
              "1916 7909629 NULL     \n",
              "1920 7909629 NULL     \n",
              "1924 7909629 NULL     \n",
              "1927 7904840 NULL     \n",
              "1930 7898977 NULL     \n",
              "1939 7934554 NULL     \n",
              "1942 7934554 NULL     \n",
              "1943 7934554 NULL     \n",
              "1945 7934554 NULL     \n",
              "1948 7934554 NULL     \n",
              "1953 7956252 NULL     \n",
              "1954 7956252 NULL     \n",
              "1963 7937230 NULL     \n",
              "1965 7937230 NULL     \n",
              "1966 7937230 NULL     \n",
              "1968 7937230 NULL     \n",
              "1995 7994846 NULL     \n",
              "1996 7994846 NULL     "
            ]
          },
          "metadata": {},
          "output_type": "display_data"
        }
      ],
      "source": [
        "df_chem"
      ]
    },
    {
      "cell_type": "code",
      "execution_count": null,
      "metadata": {
        "colab": {
          "base_uri": "https://localhost:8080/",
          "height": 1000
        },
        "id": "bC7h-sKihg6X",
        "outputId": "42b6b948-e0d7-4147-e651-8abee6f109e8"
      },
      "outputs": [
        {
          "data": {
            "text/html": [
              "<table class=\"dataframe\">\n",
              "<caption>A matrix: 438 × 6 of type chr</caption>\n",
              "<thead>\n",
              "\t<tr><th scope=col>PMID</th><th scope=col>PName</th><th scope=col>PMeshId</th><th scope=col>PubType</th><th scope=col>PMC</th><th scope=col>sentences</th></tr>\n",
              "</thead>\n",
              "<tbody>\n",
              "\t<tr><td>17406030</td><td>temozolomide                          </td><td>MESH:D000077204</td><td>Chemicals</td><td>NA     </td><td>NULL</td></tr>\n",
              "\t<tr><td>17620414</td><td>H3-K36-Me                             </td><td>-              </td><td>Chemicals</td><td>2099615</td><td>NULL</td></tr>\n",
              "\t<tr><td>17620414</td><td>H3-K4-Me                              </td><td>-              </td><td>Chemicals</td><td>2099615</td><td>NULL</td></tr>\n",
              "\t<tr><td>17620414</td><td>ATP                                   </td><td>MESH:D000255   </td><td>Chemicals</td><td>2099615</td><td>NULL</td></tr>\n",
              "\t<tr><td>18794128</td><td>oncrasin-1                            </td><td>MESH:C532252   </td><td>Chemicals</td><td>2678915</td><td>NULL</td></tr>\n",
              "\t<tr><td>19074863</td><td>carboplatin                           </td><td>MESH:D016190   </td><td>Chemicals</td><td>NA     </td><td>NULL</td></tr>\n",
              "\t<tr><td>19144191</td><td>sphingolipid                          </td><td>MESH:D013107   </td><td>Chemicals</td><td>2632640</td><td>NULL</td></tr>\n",
              "\t<tr><td>19144191</td><td>dihydromotuporamine C                 </td><td>MESH:C510298   </td><td>Chemicals</td><td>2632640</td><td>NULL</td></tr>\n",
              "\t<tr><td>19366795</td><td>estradiol                             </td><td>MESH:D004958   </td><td>Chemicals</td><td>2811393</td><td>NULL</td></tr>\n",
              "\t<tr><td>19366795</td><td>BEZ235                                </td><td>MESH:C531198   </td><td>Chemicals</td><td>2811393</td><td>NULL</td></tr>\n",
              "\t<tr><td>19934329</td><td>mitomycin C                           </td><td>MESH:D016685   </td><td>Chemicals</td><td>2799030</td><td>NULL</td></tr>\n",
              "\t<tr><td>19934329</td><td>MMC                                   </td><td>MESH:D016685   </td><td>Chemicals</td><td>2799030</td><td>NULL</td></tr>\n",
              "\t<tr><td>20457929</td><td>ADP                                   </td><td>MESH:D000244   </td><td>Chemicals</td><td>2906835</td><td>NULL</td></tr>\n",
              "\t<tr><td>20457929</td><td>phosphate                             </td><td>MESH:D010710   </td><td>Chemicals</td><td>2906835</td><td>NULL</td></tr>\n",
              "\t<tr><td>20457929</td><td>ATP                                   </td><td>MESH:D000255   </td><td>Chemicals</td><td>2906835</td><td>NULL</td></tr>\n",
              "\t<tr><td>21042413</td><td>benomyl                               </td><td>MESH:D001542   </td><td>Chemicals</td><td>2958848</td><td>NULL</td></tr>\n",
              "\t<tr><td>21088254</td><td>serine                                </td><td>MESH:D012694   </td><td>Chemicals</td><td>NA     </td><td>NULL</td></tr>\n",
              "\t<tr><td>21289082</td><td>mitomycin C                           </td><td>MESH:D016685   </td><td>Chemicals</td><td>3087888</td><td>NULL</td></tr>\n",
              "\t<tr><td>21289082</td><td>gemcitabine                           </td><td>MESH:C056507   </td><td>Chemicals</td><td>3087888</td><td>NULL</td></tr>\n",
              "\t<tr><td>21430111</td><td>PX-866                                </td><td>MESH:C496788   </td><td>Chemicals</td><td>3064700</td><td>NULL</td></tr>\n",
              "\t<tr><td>21555567</td><td>oxygen                                </td><td>MESH:D010100   </td><td>Chemicals</td><td>3102385</td><td>NULL</td></tr>\n",
              "\t<tr><td>21555567</td><td>lanperisone                           </td><td>-              </td><td>Chemicals</td><td>3102385</td><td>NULL</td></tr>\n",
              "\t<tr><td>21562588</td><td>Nutlin                                </td><td>-              </td><td>Chemicals</td><td>3122118</td><td>NULL</td></tr>\n",
              "\t<tr><td>21562588</td><td>17AAG                                 </td><td>MESH:C112765   </td><td>Chemicals</td><td>3122118</td><td>NULL</td></tr>\n",
              "\t<tr><td>21562588</td><td>17-allylamino-17-demethoxygeldanamycin</td><td>MESH:C112765   </td><td>Chemicals</td><td>3122118</td><td>NULL</td></tr>\n",
              "\t<tr><td>21922195</td><td>alanines                              </td><td>MESH:D000409   </td><td>Chemicals</td><td>3285760</td><td>NULL</td></tr>\n",
              "\t<tr><td>21922195</td><td>neocarzinostatin                      </td><td>MESH:D009353   </td><td>Chemicals</td><td>3285760</td><td>NULL</td></tr>\n",
              "\t<tr><td>21922195</td><td>polymer                               </td><td>MESH:D011108   </td><td>Chemicals</td><td>3285760</td><td>NULL</td></tr>\n",
              "\t<tr><td>21922195</td><td>hydrogen peroxide                     </td><td>MESH:D006861   </td><td>Chemicals</td><td>3285760</td><td>NULL</td></tr>\n",
              "\t<tr><td>21922195</td><td>SSBs                                  </td><td>MESH:C016118   </td><td>Chemicals</td><td>3285760</td><td>NULL</td></tr>\n",
              "\t<tr><td>⋮</td><td>⋮</td><td>⋮</td><td>⋮</td><td>⋮</td><td>⋮</td></tr>\n",
              "\t<tr><td>33138032</td><td>BTICs                      </td><td>-              </td><td>Chemicals</td><td>7693555</td><td>NULL</td></tr>\n",
              "\t<tr><td>33138032</td><td>olaparib                   </td><td>MESH:C531550   </td><td>Chemicals</td><td>7693555</td><td>NULL</td></tr>\n",
              "\t<tr><td>33241675</td><td>BH3                        </td><td>MESH:C006008   </td><td>Chemicals</td><td>8634190</td><td>NULL</td></tr>\n",
              "\t<tr><td>33431824</td><td>BETi                       </td><td>-              </td><td>Chemicals</td><td>7801601</td><td>NULL</td></tr>\n",
              "\t<tr><td>33536335</td><td>topotecan                  </td><td>MESH:D019772   </td><td>Chemicals</td><td>8017720</td><td>NULL</td></tr>\n",
              "\t<tr><td>33536335</td><td>camptothecin               </td><td>MESH:D002166   </td><td>Chemicals</td><td>8017720</td><td>NULL</td></tr>\n",
              "\t<tr><td>33536335</td><td>indotecan                  </td><td>MESH:C553898   </td><td>Chemicals</td><td>8017720</td><td>NULL</td></tr>\n",
              "\t<tr><td>33536335</td><td>talazoparib                </td><td>MESH:C586365   </td><td>Chemicals</td><td>8017720</td><td>NULL</td></tr>\n",
              "\t<tr><td>33536335</td><td>cisplatin                  </td><td>MESH:D002945   </td><td>Chemicals</td><td>8017720</td><td>NULL</td></tr>\n",
              "\t<tr><td>33536335</td><td>etoposide                  </td><td>MESH:D005047   </td><td>Chemicals</td><td>8017720</td><td>NULL</td></tr>\n",
              "\t<tr><td>33591981</td><td>TAK                        </td><td>-              </td><td>Chemicals</td><td>7909629</td><td>NULL</td></tr>\n",
              "\t<tr><td>33591981</td><td>celastrol                  </td><td>MESH:C050414   </td><td>Chemicals</td><td>7909629</td><td>NULL</td></tr>\n",
              "\t<tr><td>33591981</td><td>PYR                        </td><td>MESH:D009242   </td><td>Chemicals</td><td>7909629</td><td>NULL</td></tr>\n",
              "\t<tr><td>33591981</td><td>UNC3230                    </td><td>-              </td><td>Chemicals</td><td>7909629</td><td>NULL</td></tr>\n",
              "\t<tr><td>33591981</td><td>isoginkgetin               </td><td>MESH:C452984   </td><td>Chemicals</td><td>7909629</td><td>NULL</td></tr>\n",
              "\t<tr><td>33627666</td><td>cladribine                 </td><td>MESH:D017338   </td><td>Chemicals</td><td>7904840</td><td>NULL</td></tr>\n",
              "\t<tr><td>33628735</td><td>leucine                    </td><td>MESH:D007930   </td><td>Chemicals</td><td>7898977</td><td>NULL</td></tr>\n",
              "\t<tr><td>33663560</td><td>Lapatinib                  </td><td>MESH:D000077341</td><td>Chemicals</td><td>7934554</td><td>NULL</td></tr>\n",
              "\t<tr><td>33663560</td><td>veliparib                  </td><td>MESH:C521013   </td><td>Chemicals</td><td>7934554</td><td>NULL</td></tr>\n",
              "\t<tr><td>33663560</td><td>taxane                     </td><td>MESH:C080625   </td><td>Chemicals</td><td>7934554</td><td>NULL</td></tr>\n",
              "\t<tr><td>33663560</td><td>anthracycline              </td><td>MESH:D018943   </td><td>Chemicals</td><td>7934554</td><td>NULL</td></tr>\n",
              "\t<tr><td>33663560</td><td>lapatinib                  </td><td>MESH:D000077341</td><td>Chemicals</td><td>7934554</td><td>NULL</td></tr>\n",
              "\t<tr><td>33668176</td><td>saponins                   </td><td>MESH:D012503   </td><td>Chemicals</td><td>7956252</td><td>NULL</td></tr>\n",
              "\t<tr><td>33668176</td><td>sterol                     </td><td>MESH:D013261   </td><td>Chemicals</td><td>7956252</td><td>NULL</td></tr>\n",
              "\t<tr><td>33676427</td><td>Eeyarestatin I             </td><td>MESH:C492847   </td><td>Chemicals</td><td>7937230</td><td>NULL</td></tr>\n",
              "\t<tr><td>33676427</td><td>FTS                        </td><td>MESH:C093323   </td><td>Chemicals</td><td>7937230</td><td>NULL</td></tr>\n",
              "\t<tr><td>33676427</td><td>Farnesyl thiosalicylic acid</td><td>MESH:C093323   </td><td>Chemicals</td><td>7937230</td><td>NULL</td></tr>\n",
              "\t<tr><td>33676427</td><td>EerI                       </td><td>MESH:C492847   </td><td>Chemicals</td><td>7937230</td><td>NULL</td></tr>\n",
              "\t<tr><td>33767160</td><td>trametinib                 </td><td>MESH:C560077   </td><td>Chemicals</td><td>7994846</td><td>NULL</td></tr>\n",
              "\t<tr><td>33767160</td><td>ralimetinib                </td><td>-              </td><td>Chemicals</td><td>7994846</td><td>NULL</td></tr>\n",
              "</tbody>\n",
              "</table>\n"
            ],
            "text/latex": "A matrix: 438 × 6 of type chr\n\\begin{tabular}{llllll}\n PMID & PName & PMeshId & PubType & PMC & sentences\\\\\n\\hline\n\t 17406030 & temozolomide                           & MESH:D000077204 & Chemicals & NA      & NULL\\\\\n\t 17620414 & H3-K36-Me                              & -               & Chemicals & 2099615 & NULL\\\\\n\t 17620414 & H3-K4-Me                               & -               & Chemicals & 2099615 & NULL\\\\\n\t 17620414 & ATP                                    & MESH:D000255    & Chemicals & 2099615 & NULL\\\\\n\t 18794128 & oncrasin-1                             & MESH:C532252    & Chemicals & 2678915 & NULL\\\\\n\t 19074863 & carboplatin                            & MESH:D016190    & Chemicals & NA      & NULL\\\\\n\t 19144191 & sphingolipid                           & MESH:D013107    & Chemicals & 2632640 & NULL\\\\\n\t 19144191 & dihydromotuporamine C                  & MESH:C510298    & Chemicals & 2632640 & NULL\\\\\n\t 19366795 & estradiol                              & MESH:D004958    & Chemicals & 2811393 & NULL\\\\\n\t 19366795 & BEZ235                                 & MESH:C531198    & Chemicals & 2811393 & NULL\\\\\n\t 19934329 & mitomycin C                            & MESH:D016685    & Chemicals & 2799030 & NULL\\\\\n\t 19934329 & MMC                                    & MESH:D016685    & Chemicals & 2799030 & NULL\\\\\n\t 20457929 & ADP                                    & MESH:D000244    & Chemicals & 2906835 & NULL\\\\\n\t 20457929 & phosphate                              & MESH:D010710    & Chemicals & 2906835 & NULL\\\\\n\t 20457929 & ATP                                    & MESH:D000255    & Chemicals & 2906835 & NULL\\\\\n\t 21042413 & benomyl                                & MESH:D001542    & Chemicals & 2958848 & NULL\\\\\n\t 21088254 & serine                                 & MESH:D012694    & Chemicals & NA      & NULL\\\\\n\t 21289082 & mitomycin C                            & MESH:D016685    & Chemicals & 3087888 & NULL\\\\\n\t 21289082 & gemcitabine                            & MESH:C056507    & Chemicals & 3087888 & NULL\\\\\n\t 21430111 & PX-866                                 & MESH:C496788    & Chemicals & 3064700 & NULL\\\\\n\t 21555567 & oxygen                                 & MESH:D010100    & Chemicals & 3102385 & NULL\\\\\n\t 21555567 & lanperisone                            & -               & Chemicals & 3102385 & NULL\\\\\n\t 21562588 & Nutlin                                 & -               & Chemicals & 3122118 & NULL\\\\\n\t 21562588 & 17AAG                                  & MESH:C112765    & Chemicals & 3122118 & NULL\\\\\n\t 21562588 & 17-allylamino-17-demethoxygeldanamycin & MESH:C112765    & Chemicals & 3122118 & NULL\\\\\n\t 21922195 & alanines                               & MESH:D000409    & Chemicals & 3285760 & NULL\\\\\n\t 21922195 & neocarzinostatin                       & MESH:D009353    & Chemicals & 3285760 & NULL\\\\\n\t 21922195 & polymer                                & MESH:D011108    & Chemicals & 3285760 & NULL\\\\\n\t 21922195 & hydrogen peroxide                      & MESH:D006861    & Chemicals & 3285760 & NULL\\\\\n\t 21922195 & SSBs                                   & MESH:C016118    & Chemicals & 3285760 & NULL\\\\\n\t ⋮ & ⋮ & ⋮ & ⋮ & ⋮ & ⋮\\\\\n\t 33138032 & BTICs                       & -               & Chemicals & 7693555 & NULL\\\\\n\t 33138032 & olaparib                    & MESH:C531550    & Chemicals & 7693555 & NULL\\\\\n\t 33241675 & BH3                         & MESH:C006008    & Chemicals & 8634190 & NULL\\\\\n\t 33431824 & BETi                        & -               & Chemicals & 7801601 & NULL\\\\\n\t 33536335 & topotecan                   & MESH:D019772    & Chemicals & 8017720 & NULL\\\\\n\t 33536335 & camptothecin                & MESH:D002166    & Chemicals & 8017720 & NULL\\\\\n\t 33536335 & indotecan                   & MESH:C553898    & Chemicals & 8017720 & NULL\\\\\n\t 33536335 & talazoparib                 & MESH:C586365    & Chemicals & 8017720 & NULL\\\\\n\t 33536335 & cisplatin                   & MESH:D002945    & Chemicals & 8017720 & NULL\\\\\n\t 33536335 & etoposide                   & MESH:D005047    & Chemicals & 8017720 & NULL\\\\\n\t 33591981 & TAK                         & -               & Chemicals & 7909629 & NULL\\\\\n\t 33591981 & celastrol                   & MESH:C050414    & Chemicals & 7909629 & NULL\\\\\n\t 33591981 & PYR                         & MESH:D009242    & Chemicals & 7909629 & NULL\\\\\n\t 33591981 & UNC3230                     & -               & Chemicals & 7909629 & NULL\\\\\n\t 33591981 & isoginkgetin                & MESH:C452984    & Chemicals & 7909629 & NULL\\\\\n\t 33627666 & cladribine                  & MESH:D017338    & Chemicals & 7904840 & NULL\\\\\n\t 33628735 & leucine                     & MESH:D007930    & Chemicals & 7898977 & NULL\\\\\n\t 33663560 & Lapatinib                   & MESH:D000077341 & Chemicals & 7934554 & NULL\\\\\n\t 33663560 & veliparib                   & MESH:C521013    & Chemicals & 7934554 & NULL\\\\\n\t 33663560 & taxane                      & MESH:C080625    & Chemicals & 7934554 & NULL\\\\\n\t 33663560 & anthracycline               & MESH:D018943    & Chemicals & 7934554 & NULL\\\\\n\t 33663560 & lapatinib                   & MESH:D000077341 & Chemicals & 7934554 & NULL\\\\\n\t 33668176 & saponins                    & MESH:D012503    & Chemicals & 7956252 & NULL\\\\\n\t 33668176 & sterol                      & MESH:D013261    & Chemicals & 7956252 & NULL\\\\\n\t 33676427 & Eeyarestatin I              & MESH:C492847    & Chemicals & 7937230 & NULL\\\\\n\t 33676427 & FTS                         & MESH:C093323    & Chemicals & 7937230 & NULL\\\\\n\t 33676427 & Farnesyl thiosalicylic acid & MESH:C093323    & Chemicals & 7937230 & NULL\\\\\n\t 33676427 & EerI                        & MESH:C492847    & Chemicals & 7937230 & NULL\\\\\n\t 33767160 & trametinib                  & MESH:C560077    & Chemicals & 7994846 & NULL\\\\\n\t 33767160 & ralimetinib                 & -               & Chemicals & 7994846 & NULL\\\\\n\\end{tabular}\n",
            "text/markdown": "\nA matrix: 438 × 6 of type chr\n\n| PMID | PName | PMeshId | PubType | PMC | sentences |\n|---|---|---|---|---|---|\n| 17406030 | temozolomide                           | MESH:D000077204 | Chemicals | NA      | NULL |\n| 17620414 | H3-K36-Me                              | -               | Chemicals | 2099615 | NULL |\n| 17620414 | H3-K4-Me                               | -               | Chemicals | 2099615 | NULL |\n| 17620414 | ATP                                    | MESH:D000255    | Chemicals | 2099615 | NULL |\n| 18794128 | oncrasin-1                             | MESH:C532252    | Chemicals | 2678915 | NULL |\n| 19074863 | carboplatin                            | MESH:D016190    | Chemicals | NA      | NULL |\n| 19144191 | sphingolipid                           | MESH:D013107    | Chemicals | 2632640 | NULL |\n| 19144191 | dihydromotuporamine C                  | MESH:C510298    | Chemicals | 2632640 | NULL |\n| 19366795 | estradiol                              | MESH:D004958    | Chemicals | 2811393 | NULL |\n| 19366795 | BEZ235                                 | MESH:C531198    | Chemicals | 2811393 | NULL |\n| 19934329 | mitomycin C                            | MESH:D016685    | Chemicals | 2799030 | NULL |\n| 19934329 | MMC                                    | MESH:D016685    | Chemicals | 2799030 | NULL |\n| 20457929 | ADP                                    | MESH:D000244    | Chemicals | 2906835 | NULL |\n| 20457929 | phosphate                              | MESH:D010710    | Chemicals | 2906835 | NULL |\n| 20457929 | ATP                                    | MESH:D000255    | Chemicals | 2906835 | NULL |\n| 21042413 | benomyl                                | MESH:D001542    | Chemicals | 2958848 | NULL |\n| 21088254 | serine                                 | MESH:D012694    | Chemicals | NA      | NULL |\n| 21289082 | mitomycin C                            | MESH:D016685    | Chemicals | 3087888 | NULL |\n| 21289082 | gemcitabine                            | MESH:C056507    | Chemicals | 3087888 | NULL |\n| 21430111 | PX-866                                 | MESH:C496788    | Chemicals | 3064700 | NULL |\n| 21555567 | oxygen                                 | MESH:D010100    | Chemicals | 3102385 | NULL |\n| 21555567 | lanperisone                            | -               | Chemicals | 3102385 | NULL |\n| 21562588 | Nutlin                                 | -               | Chemicals | 3122118 | NULL |\n| 21562588 | 17AAG                                  | MESH:C112765    | Chemicals | 3122118 | NULL |\n| 21562588 | 17-allylamino-17-demethoxygeldanamycin | MESH:C112765    | Chemicals | 3122118 | NULL |\n| 21922195 | alanines                               | MESH:D000409    | Chemicals | 3285760 | NULL |\n| 21922195 | neocarzinostatin                       | MESH:D009353    | Chemicals | 3285760 | NULL |\n| 21922195 | polymer                                | MESH:D011108    | Chemicals | 3285760 | NULL |\n| 21922195 | hydrogen peroxide                      | MESH:D006861    | Chemicals | 3285760 | NULL |\n| 21922195 | SSBs                                   | MESH:C016118    | Chemicals | 3285760 | NULL |\n| ⋮ | ⋮ | ⋮ | ⋮ | ⋮ | ⋮ |\n| 33138032 | BTICs                       | -               | Chemicals | 7693555 | NULL |\n| 33138032 | olaparib                    | MESH:C531550    | Chemicals | 7693555 | NULL |\n| 33241675 | BH3                         | MESH:C006008    | Chemicals | 8634190 | NULL |\n| 33431824 | BETi                        | -               | Chemicals | 7801601 | NULL |\n| 33536335 | topotecan                   | MESH:D019772    | Chemicals | 8017720 | NULL |\n| 33536335 | camptothecin                | MESH:D002166    | Chemicals | 8017720 | NULL |\n| 33536335 | indotecan                   | MESH:C553898    | Chemicals | 8017720 | NULL |\n| 33536335 | talazoparib                 | MESH:C586365    | Chemicals | 8017720 | NULL |\n| 33536335 | cisplatin                   | MESH:D002945    | Chemicals | 8017720 | NULL |\n| 33536335 | etoposide                   | MESH:D005047    | Chemicals | 8017720 | NULL |\n| 33591981 | TAK                         | -               | Chemicals | 7909629 | NULL |\n| 33591981 | celastrol                   | MESH:C050414    | Chemicals | 7909629 | NULL |\n| 33591981 | PYR                         | MESH:D009242    | Chemicals | 7909629 | NULL |\n| 33591981 | UNC3230                     | -               | Chemicals | 7909629 | NULL |\n| 33591981 | isoginkgetin                | MESH:C452984    | Chemicals | 7909629 | NULL |\n| 33627666 | cladribine                  | MESH:D017338    | Chemicals | 7904840 | NULL |\n| 33628735 | leucine                     | MESH:D007930    | Chemicals | 7898977 | NULL |\n| 33663560 | Lapatinib                   | MESH:D000077341 | Chemicals | 7934554 | NULL |\n| 33663560 | veliparib                   | MESH:C521013    | Chemicals | 7934554 | NULL |\n| 33663560 | taxane                      | MESH:C080625    | Chemicals | 7934554 | NULL |\n| 33663560 | anthracycline               | MESH:D018943    | Chemicals | 7934554 | NULL |\n| 33663560 | lapatinib                   | MESH:D000077341 | Chemicals | 7934554 | NULL |\n| 33668176 | saponins                    | MESH:D012503    | Chemicals | 7956252 | NULL |\n| 33668176 | sterol                      | MESH:D013261    | Chemicals | 7956252 | NULL |\n| 33676427 | Eeyarestatin I              | MESH:C492847    | Chemicals | 7937230 | NULL |\n| 33676427 | FTS                         | MESH:C093323    | Chemicals | 7937230 | NULL |\n| 33676427 | Farnesyl thiosalicylic acid | MESH:C093323    | Chemicals | 7937230 | NULL |\n| 33676427 | EerI                        | MESH:C492847    | Chemicals | 7937230 | NULL |\n| 33767160 | trametinib                  | MESH:C560077    | Chemicals | 7994846 | NULL |\n| 33767160 | ralimetinib                 | -               | Chemicals | 7994846 | NULL |\n\n",
            "text/plain": [
              "      PMID     PName                                  PMeshId         PubType  \n",
              " [1,] 17406030 temozolomide                           MESH:D000077204 Chemicals\n",
              " [2,] 17620414 H3-K36-Me                              -               Chemicals\n",
              " [3,] 17620414 H3-K4-Me                               -               Chemicals\n",
              " [4,] 17620414 ATP                                    MESH:D000255    Chemicals\n",
              " [5,] 18794128 oncrasin-1                             MESH:C532252    Chemicals\n",
              " [6,] 19074863 carboplatin                            MESH:D016190    Chemicals\n",
              " [7,] 19144191 sphingolipid                           MESH:D013107    Chemicals\n",
              " [8,] 19144191 dihydromotuporamine C                  MESH:C510298    Chemicals\n",
              " [9,] 19366795 estradiol                              MESH:D004958    Chemicals\n",
              "[10,] 19366795 BEZ235                                 MESH:C531198    Chemicals\n",
              "[11,] 19934329 mitomycin C                            MESH:D016685    Chemicals\n",
              "[12,] 19934329 MMC                                    MESH:D016685    Chemicals\n",
              "[13,] 20457929 ADP                                    MESH:D000244    Chemicals\n",
              "[14,] 20457929 phosphate                              MESH:D010710    Chemicals\n",
              "[15,] 20457929 ATP                                    MESH:D000255    Chemicals\n",
              "[16,] 21042413 benomyl                                MESH:D001542    Chemicals\n",
              "[17,] 21088254 serine                                 MESH:D012694    Chemicals\n",
              "[18,] 21289082 mitomycin C                            MESH:D016685    Chemicals\n",
              "[19,] 21289082 gemcitabine                            MESH:C056507    Chemicals\n",
              "[20,] 21430111 PX-866                                 MESH:C496788    Chemicals\n",
              "[21,] 21555567 oxygen                                 MESH:D010100    Chemicals\n",
              "[22,] 21555567 lanperisone                            -               Chemicals\n",
              "[23,] 21562588 Nutlin                                 -               Chemicals\n",
              "[24,] 21562588 17AAG                                  MESH:C112765    Chemicals\n",
              "[25,] 21562588 17-allylamino-17-demethoxygeldanamycin MESH:C112765    Chemicals\n",
              "[26,] 21922195 alanines                               MESH:D000409    Chemicals\n",
              "[27,] 21922195 neocarzinostatin                       MESH:D009353    Chemicals\n",
              "[28,] 21922195 polymer                                MESH:D011108    Chemicals\n",
              "[29,] 21922195 hydrogen peroxide                      MESH:D006861    Chemicals\n",
              "[30,] 21922195 SSBs                                   MESH:C016118    Chemicals\n",
              "[31,] ⋮        ⋮                                      ⋮               ⋮        \n",
              "[32,] 33138032 BTICs                                  -               Chemicals\n",
              "[33,] 33138032 olaparib                               MESH:C531550    Chemicals\n",
              "[34,] 33241675 BH3                                    MESH:C006008    Chemicals\n",
              "[35,] 33431824 BETi                                   -               Chemicals\n",
              "[36,] 33536335 topotecan                              MESH:D019772    Chemicals\n",
              "[37,] 33536335 camptothecin                           MESH:D002166    Chemicals\n",
              "[38,] 33536335 indotecan                              MESH:C553898    Chemicals\n",
              "[39,] 33536335 talazoparib                            MESH:C586365    Chemicals\n",
              "[40,] 33536335 cisplatin                              MESH:D002945    Chemicals\n",
              "[41,] 33536335 etoposide                              MESH:D005047    Chemicals\n",
              "[42,] 33591981 TAK                                    -               Chemicals\n",
              "[43,] 33591981 celastrol                              MESH:C050414    Chemicals\n",
              "[44,] 33591981 PYR                                    MESH:D009242    Chemicals\n",
              "[45,] 33591981 UNC3230                                -               Chemicals\n",
              "[46,] 33591981 isoginkgetin                           MESH:C452984    Chemicals\n",
              "[47,] 33627666 cladribine                             MESH:D017338    Chemicals\n",
              "[48,] 33628735 leucine                                MESH:D007930    Chemicals\n",
              "[49,] 33663560 Lapatinib                              MESH:D000077341 Chemicals\n",
              "[50,] 33663560 veliparib                              MESH:C521013    Chemicals\n",
              "[51,] 33663560 taxane                                 MESH:C080625    Chemicals\n",
              "[52,] 33663560 anthracycline                          MESH:D018943    Chemicals\n",
              "[53,] 33663560 lapatinib                              MESH:D000077341 Chemicals\n",
              "[54,] 33668176 saponins                               MESH:D012503    Chemicals\n",
              "[55,] 33668176 sterol                                 MESH:D013261    Chemicals\n",
              "[56,] 33676427 Eeyarestatin I                         MESH:C492847    Chemicals\n",
              "[57,] 33676427 FTS                                    MESH:C093323    Chemicals\n",
              "[58,] 33676427 Farnesyl thiosalicylic acid            MESH:C093323    Chemicals\n",
              "[59,] 33676427 EerI                                   MESH:C492847    Chemicals\n",
              "[60,] 33767160 trametinib                             MESH:C560077    Chemicals\n",
              "[61,] 33767160 ralimetinib                            -               Chemicals\n",
              "      PMC     sentences\n",
              " [1,] NA      NULL     \n",
              " [2,] 2099615 NULL     \n",
              " [3,] 2099615 NULL     \n",
              " [4,] 2099615 NULL     \n",
              " [5,] 2678915 NULL     \n",
              " [6,] NA      NULL     \n",
              " [7,] 2632640 NULL     \n",
              " [8,] 2632640 NULL     \n",
              " [9,] 2811393 NULL     \n",
              "[10,] 2811393 NULL     \n",
              "[11,] 2799030 NULL     \n",
              "[12,] 2799030 NULL     \n",
              "[13,] 2906835 NULL     \n",
              "[14,] 2906835 NULL     \n",
              "[15,] 2906835 NULL     \n",
              "[16,] 2958848 NULL     \n",
              "[17,] NA      NULL     \n",
              "[18,] 3087888 NULL     \n",
              "[19,] 3087888 NULL     \n",
              "[20,] 3064700 NULL     \n",
              "[21,] 3102385 NULL     \n",
              "[22,] 3102385 NULL     \n",
              "[23,] 3122118 NULL     \n",
              "[24,] 3122118 NULL     \n",
              "[25,] 3122118 NULL     \n",
              "[26,] 3285760 NULL     \n",
              "[27,] 3285760 NULL     \n",
              "[28,] 3285760 NULL     \n",
              "[29,] 3285760 NULL     \n",
              "[30,] 3285760 NULL     \n",
              "[31,] ⋮       ⋮        \n",
              "[32,] 7693555 NULL     \n",
              "[33,] 7693555 NULL     \n",
              "[34,] 8634190 NULL     \n",
              "[35,] 7801601 NULL     \n",
              "[36,] 8017720 NULL     \n",
              "[37,] 8017720 NULL     \n",
              "[38,] 8017720 NULL     \n",
              "[39,] 8017720 NULL     \n",
              "[40,] 8017720 NULL     \n",
              "[41,] 8017720 NULL     \n",
              "[42,] 7909629 NULL     \n",
              "[43,] 7909629 NULL     \n",
              "[44,] 7909629 NULL     \n",
              "[45,] 7909629 NULL     \n",
              "[46,] 7909629 NULL     \n",
              "[47,] 7904840 NULL     \n",
              "[48,] 7898977 NULL     \n",
              "[49,] 7934554 NULL     \n",
              "[50,] 7934554 NULL     \n",
              "[51,] 7934554 NULL     \n",
              "[52,] 7934554 NULL     \n",
              "[53,] 7934554 NULL     \n",
              "[54,] 7956252 NULL     \n",
              "[55,] 7956252 NULL     \n",
              "[56,] 7937230 NULL     \n",
              "[57,] 7937230 NULL     \n",
              "[58,] 7937230 NULL     \n",
              "[59,] 7937230 NULL     \n",
              "[60,] 7994846 NULL     \n",
              "[61,] 7994846 NULL     "
            ]
          },
          "metadata": {},
          "output_type": "display_data"
        }
      ],
      "source": [
        "df_chem"
      ]
    },
    {
      "cell_type": "code",
      "execution_count": null,
      "metadata": {
        "id": "4Y5vd8uefNVy"
      },
      "outputs": [],
      "source": [
        "df_chem <- apply(df_chem,2,as.character)\n",
        "write.csv(df_chem, \"df_chem.csv\", row.names=FALSE)"
      ]
    },
    {
      "cell_type": "markdown",
      "metadata": {
        "id": "jj-UD4CUoU75"
      },
      "source": [
        "# Getting PMC"
      ]
    },
    {
      "cell_type": "code",
      "execution_count": null,
      "metadata": {
        "colab": {
          "base_uri": "https://localhost:8080/",
          "height": 86
        },
        "id": "nXP9Yz5loUB6",
        "outputId": "1f534820-81f4-4f68-a91c-a97befffed3c"
      },
      "outputs": [
        {
          "data": {
            "text/html": [
              "<style>\n",
              ".list-inline {list-style: none; margin:0; padding: 0}\n",
              ".list-inline>li {display: inline-block}\n",
              ".list-inline>li:not(:last-child)::after {content: \"\\00b7\"; padding: 0 .5ex}\n",
              "</style>\n",
              "<ol class=list-inline><li>' In vivo depletion of Lcp5p also inhibited pre-rRNA processing.'</li><li>' Indirect immunofluorescence indicated a predominant localization of Lcp5p in the nucleolus.'</li><li>' In addition, antibodies directed against Lcp5p specifically immunoprecipitated the yeast U3 snoRNA snR17, suggesting that the protein is directly involved in pre-rRNA processing.'</li></ol>\n"
            ],
            "text/latex": "\\begin{enumerate*}\n\\item ' In vivo depletion of Lcp5p also inhibited pre-rRNA processing.'\n\\item ' Indirect immunofluorescence indicated a predominant localization of Lcp5p in the nucleolus.'\n\\item ' In addition, antibodies directed against Lcp5p specifically immunoprecipitated the yeast U3 snoRNA snR17, suggesting that the protein is directly involved in pre-rRNA processing.'\n\\end{enumerate*}\n",
            "text/markdown": "1. ' In vivo depletion of Lcp5p also inhibited pre-rRNA processing.'\n2. ' Indirect immunofluorescence indicated a predominant localization of Lcp5p in the nucleolus.'\n3. ' In addition, antibodies directed against Lcp5p specifically immunoprecipitated the yeast U3 snoRNA snR17, suggesting that the protein is directly involved in pre-rRNA processing.'\n\n\n",
            "text/plain": [
              "[1] \" In vivo depletion of Lcp5p also inhibited pre-rRNA processing.\"                                                                                                                    \n",
              "[2] \" Indirect immunofluorescence indicated a predominant localization of Lcp5p in the nucleolus.\"                                                                                       \n",
              "[3] \" In addition, antibodies directed against Lcp5p specifically immunoprecipitated the yeast U3 snoRNA snR17, suggesting that the protein is directly involved in pre-rRNA processing.\""
            ]
          },
          "metadata": {},
          "output_type": "display_data"
        }
      ],
      "source": [
        "Give_Sentences_PMC(df_pmc_ent$PMC[1], df_pmc_ent$PName[1])"
      ]
    },
    {
      "cell_type": "code",
      "execution_count": null,
      "metadata": {
        "id": "WoF6aYiioT_a"
      },
      "outputs": [],
      "source": [
        "Give_Sentences_PMC(PMC4039032, \"atherosclerosis\")"
      ]
    },
    {
      "cell_type": "markdown",
      "metadata": {
        "id": "1ILrt4-qG_WE"
      },
      "source": [
        "# counts\n"
      ]
    },
    {
      "cell_type": "code",
      "execution_count": null,
      "metadata": {
        "colab": {
          "base_uri": "https://localhost:8080/",
          "height": 132
        },
        "id": "Hhpc3hPiHpsN",
        "outputId": "198e93c3-5440-42fa-d575-eda530298b39"
      },
      "outputs": [
        {
          "ename": "ERROR",
          "evalue": "ignored",
          "output_type": "error",
          "traceback": [
            "Error in col[[i, exact = exact]]: subscript out of bounds\nTraceback:\n",
            "1. pubresults[[\"Chemicals\", \"PMID\"]]"
          ]
        }
      ],
      "source": [
        "pubresults[['Chemicals','PMID']]"
      ]
    },
    {
      "cell_type": "code",
      "execution_count": null,
      "metadata": {
        "id": "1EXolgHdHAsN"
      },
      "outputs": [],
      "source": [
        "df_chem <- df_pmc_ent[df_pmc_ent$PubType == 'Chemicals',]"
      ]
    }
  ],
  "metadata": {
    "colab": {
      "provenance": [],
      "authorship_tag": "ABX9TyOJ8eiQOEjtyaIiY+npLgYO",
      "include_colab_link": true
    },
    "kernelspec": {
      "display_name": "R",
      "name": "ir"
    },
    "language_info": {
      "name": "R"
    }
  },
  "nbformat": 4,
  "nbformat_minor": 0
}